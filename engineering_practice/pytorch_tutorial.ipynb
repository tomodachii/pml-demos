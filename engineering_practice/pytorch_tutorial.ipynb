{
 "cells": [
  {
   "cell_type": "code",
   "execution_count": 489,
   "id": "45fe2449",
   "metadata": {},
   "outputs": [],
   "source": [
    "import torch"
   ]
  },
  {
   "cell_type": "code",
   "execution_count": 490,
   "id": "6ab3a941",
   "metadata": {},
   "outputs": [
    {
     "data": {
      "text/plain": [
       "True"
      ]
     },
     "execution_count": 490,
     "metadata": {},
     "output_type": "execute_result"
    }
   ],
   "source": [
    "torch.cuda.is_available()"
   ]
  },
  {
   "cell_type": "code",
   "execution_count": 491,
   "id": "cbb702fd",
   "metadata": {},
   "outputs": [
    {
     "data": {
      "text/plain": [
       "1"
      ]
     },
     "execution_count": 491,
     "metadata": {},
     "output_type": "execute_result"
    }
   ],
   "source": [
    "torch.cuda.device_count()"
   ]
  },
  {
   "cell_type": "code",
   "execution_count": 492,
   "id": "3f00d521",
   "metadata": {},
   "outputs": [
    {
     "data": {
      "text/plain": [
       "0"
      ]
     },
     "execution_count": 492,
     "metadata": {},
     "output_type": "execute_result"
    }
   ],
   "source": [
    "torch.cuda.current_device()"
   ]
  },
  {
   "cell_type": "code",
   "execution_count": 493,
   "id": "d4c8f9f1",
   "metadata": {},
   "outputs": [
    {
     "data": {
      "text/plain": [
       "<torch.cuda.device at 0x707fa2dbe660>"
      ]
     },
     "execution_count": 493,
     "metadata": {},
     "output_type": "execute_result"
    }
   ],
   "source": [
    "torch.cuda.device(0)"
   ]
  },
  {
   "cell_type": "code",
   "execution_count": 494,
   "id": "642d6626",
   "metadata": {},
   "outputs": [
    {
     "data": {
      "text/plain": [
       "'NVIDIA GeForce RTX 4060 Ti'"
      ]
     },
     "execution_count": 494,
     "metadata": {},
     "output_type": "execute_result"
    }
   ],
   "source": [
    "torch.cuda.get_device_name(0)"
   ]
  },
  {
   "cell_type": "markdown",
   "id": "a858a738",
   "metadata": {},
   "source": [
    "# Tensor\n",
    "\n",
    "### Create a Tensor"
   ]
  },
  {
   "cell_type": "code",
   "execution_count": 495,
   "id": "c3e14a81",
   "metadata": {},
   "outputs": [
    {
     "data": {
      "text/plain": [
       "torch.int32"
      ]
     },
     "execution_count": 495,
     "metadata": {},
     "output_type": "execute_result"
    }
   ],
   "source": [
    "# create an empty tensor of size d\n",
    "d = 3\n",
    "x = torch.empty(d, dtype=torch.int)\n",
    "\n",
    "x.dtype"
   ]
  },
  {
   "cell_type": "code",
   "execution_count": 496,
   "id": "0dc0d3fd",
   "metadata": {},
   "outputs": [
    {
     "data": {
      "text/plain": [
       "tensor([[1.4153e-43, 1.6255e-43],\n",
       "        [1.3312e-43, 1.4013e-43],\n",
       "        [1.4153e-43, 1.6535e-43]])"
      ]
     },
     "execution_count": 496,
     "metadata": {},
     "output_type": "execute_result"
    }
   ],
   "source": [
    "# m x n matrix\n",
    "m, n = 3, 2\n",
    "x = torch.empty(m, n)\n",
    "\n",
    "x"
   ]
  },
  {
   "cell_type": "code",
   "execution_count": 497,
   "id": "393630c1",
   "metadata": {},
   "outputs": [
    {
     "data": {
      "text/plain": [
       "tensor([[[1.0320e+05, 0.0000e+00, 0.0000e+00, 0.0000e+00, 5.1824e+01],\n",
       "         [1.6090e+19, 2.1302e-04, 5.4410e-05, 1.2769e+19, 8.9288e+02],\n",
       "         [4.6173e+24, 7.1843e+22, 1.2090e+33, 4.1208e+21, 6.6822e-07],\n",
       "         [1.3542e-05, 4.2488e-05, 1.2090e+33, 2.8397e+29, 1.8694e+25]],\n",
       "\n",
       "        [[1.3237e+22, 1.8106e+22, 6.9470e+22, 1.1095e+27, 3.3076e+21],\n",
       "         [1.8451e+05, 3.6868e+03, 5.4319e-08, 5.4319e-08, 5.4319e-08],\n",
       "         [3.3949e-09, 3.3949e-09, 3.3949e-09, 1.0003e+33, 1.2999e-08],\n",
       "         [1.7740e+28, 4.3063e+21, 2.7489e+26, 6.2687e+22, 4.7428e+30]],\n",
       "\n",
       "        [[6.7113e+22, 4.7428e+30, 1.5297e+19, 2.9028e+03, 3.2498e-09],\n",
       "         [2.7067e+23, 7.4937e+31, 4.1653e+12, 7.3961e+31, 3.7323e+03],\n",
       "         [7.8718e-07, 3.1484e-06, 8.8401e-07, 1.3282e+19, 8.4727e+11],\n",
       "         [8.9495e+11, 1.7633e+25, 1.7636e+25, 9.6805e-39, 9.7025e+24]]])"
      ]
     },
     "execution_count": 497,
     "metadata": {},
     "output_type": "execute_result"
    }
   ],
   "source": [
    "torch.empty(3, 4, 5)"
   ]
  },
  {
   "cell_type": "code",
   "execution_count": 498,
   "id": "ae8301f8",
   "metadata": {},
   "outputs": [
    {
     "data": {
      "text/plain": [
       "tensor([[0.0248, 0.9119],\n",
       "        [0.6825, 0.7371]])"
      ]
     },
     "execution_count": 498,
     "metadata": {},
     "output_type": "execute_result"
    }
   ],
   "source": [
    "# tensor of random values\n",
    "torch.rand(2, 2)"
   ]
  },
  {
   "cell_type": "code",
   "execution_count": 499,
   "id": "80eac15a",
   "metadata": {},
   "outputs": [
    {
     "data": {
      "text/plain": [
       "tensor([[0., 0., 0.],\n",
       "        [0., 0., 0.],\n",
       "        [0., 0., 0.]])"
      ]
     },
     "execution_count": 499,
     "metadata": {},
     "output_type": "execute_result"
    }
   ],
   "source": [
    "# np flavour\n",
    "torch.zeros(3, 3)"
   ]
  },
  {
   "cell_type": "code",
   "execution_count": 500,
   "id": "4db092c5",
   "metadata": {},
   "outputs": [
    {
     "name": "stdout",
     "output_type": "stream",
     "text": [
      "Random Tensor: \n",
      " tensor([[0.4729, 0.0562, 0.2247],\n",
      "        [0.7994, 0.7645, 0.1479]]) \n",
      "\n",
      "Ones Tensor: \n",
      " tensor([[1., 1., 1.],\n",
      "        [1., 1., 1.]]) \n",
      "\n",
      "Zeros Tensor: \n",
      " tensor([[0., 0., 0.],\n",
      "        [0., 0., 0.]])\n"
     ]
    }
   ],
   "source": [
    "shape = (2,3,)\n",
    "rand_tensor = torch.rand(shape)\n",
    "ones_tensor = torch.ones(shape)\n",
    "zeros_tensor = torch.zeros(shape)\n",
    "\n",
    "print(f\"Random Tensor: \\n {rand_tensor} \\n\")\n",
    "print(f\"Ones Tensor: \\n {ones_tensor} \\n\")\n",
    "print(f\"Zeros Tensor: \\n {zeros_tensor}\")"
   ]
  },
  {
   "cell_type": "code",
   "execution_count": 501,
   "id": "5b382d4c",
   "metadata": {},
   "outputs": [
    {
     "data": {
      "text/plain": [
       "tensor([2.4000, 9.9000])"
      ]
     },
     "execution_count": 501,
     "metadata": {},
     "output_type": "execute_result"
    }
   ],
   "source": [
    "x = torch.tensor([2.4, 9.9])\n",
    "\n",
    "x"
   ]
  },
  {
   "cell_type": "markdown",
   "id": "85d845b2",
   "metadata": {},
   "source": [
    "### Attributes of Tensor"
   ]
  },
  {
   "cell_type": "code",
   "execution_count": 502,
   "id": "50ddfe2c",
   "metadata": {},
   "outputs": [
    {
     "name": "stdout",
     "output_type": "stream",
     "text": [
      "Shape of tensor: torch.Size([3, 4])\n",
      "Datatype of tensor: torch.float32\n",
      "Device tensor is stored on: cpu\n"
     ]
    }
   ],
   "source": [
    "tensor = torch.rand(3,4)\n",
    "\n",
    "print(f\"Shape of tensor: {tensor.shape}\")\n",
    "print(f\"Datatype of tensor: {tensor.dtype}\")\n",
    "print(f\"Device tensor is stored on: {tensor.device}\")"
   ]
  },
  {
   "cell_type": "markdown",
   "id": "61fd7c6d",
   "metadata": {},
   "source": [
    "## Basic Operations\n",
    "https://docs.pytorch.org/docs/stable/torch.html"
   ]
  },
  {
   "cell_type": "markdown",
   "id": "1a4e98f5",
   "metadata": {},
   "source": [
    "### Arithmitic Operations"
   ]
  },
  {
   "cell_type": "code",
   "execution_count": 503,
   "id": "555af555",
   "metadata": {},
   "outputs": [],
   "source": [
    "x, y = torch.tensor([[1, 2], [3, 4]]), torch.tensor([[5, 6], [7, 8]])"
   ]
  },
  {
   "cell_type": "markdown",
   "id": "1b6b58e6",
   "metadata": {},
   "source": [
    "#### Addition"
   ]
  },
  {
   "cell_type": "code",
   "execution_count": 504,
   "id": "d951a834",
   "metadata": {},
   "outputs": [
    {
     "data": {
      "text/plain": [
       "tensor([[ 6,  8],\n",
       "        [10, 12]])"
      ]
     },
     "execution_count": 504,
     "metadata": {},
     "output_type": "execute_result"
    }
   ],
   "source": [
    "x + y"
   ]
  },
  {
   "cell_type": "code",
   "execution_count": 505,
   "id": "e23a4447",
   "metadata": {},
   "outputs": [
    {
     "data": {
      "text/plain": [
       "tensor([[ 6,  8],\n",
       "        [10, 12]])"
      ]
     },
     "execution_count": 505,
     "metadata": {},
     "output_type": "execute_result"
    }
   ],
   "source": [
    "torch.add(x, y)"
   ]
  },
  {
   "cell_type": "markdown",
   "id": "7141b29e",
   "metadata": {},
   "source": [
    "Every function with underscore \"_\" will do an in-place operation"
   ]
  },
  {
   "cell_type": "code",
   "execution_count": 506,
   "id": "e126b72e",
   "metadata": {},
   "outputs": [
    {
     "data": {
      "text/plain": [
       "tensor([[ 6,  8],\n",
       "        [10, 12]])"
      ]
     },
     "execution_count": 506,
     "metadata": {},
     "output_type": "execute_result"
    }
   ],
   "source": [
    "# this will modify y, add all elements of x to y\n",
    "y.add_(x)\n",
    "\n",
    "y"
   ]
  },
  {
   "cell_type": "markdown",
   "id": "eee59b5e",
   "metadata": {},
   "source": [
    "#### Multiplication (Elementwise)"
   ]
  },
  {
   "cell_type": "code",
   "execution_count": 507,
   "id": "c2ad059c",
   "metadata": {},
   "outputs": [],
   "source": [
    "x, y = torch.tensor([[1, 2], [3, 4]]), torch.tensor([[5, 6], [7, 8]])"
   ]
  },
  {
   "cell_type": "code",
   "execution_count": 508,
   "id": "bf685b94",
   "metadata": {},
   "outputs": [
    {
     "data": {
      "text/plain": [
       "tensor([[ 5, 12],\n",
       "        [21, 32]])"
      ]
     },
     "execution_count": 508,
     "metadata": {},
     "output_type": "execute_result"
    }
   ],
   "source": [
    "x * y"
   ]
  },
  {
   "cell_type": "code",
   "execution_count": 509,
   "id": "f542f3df",
   "metadata": {},
   "outputs": [
    {
     "data": {
      "text/plain": [
       "tensor([[ 5, 12],\n",
       "        [21, 32]])"
      ]
     },
     "execution_count": 509,
     "metadata": {},
     "output_type": "execute_result"
    }
   ],
   "source": [
    "torch.mul(x, y)"
   ]
  },
  {
   "cell_type": "markdown",
   "id": "9c97cf18",
   "metadata": {},
   "source": [
    "#### Slicing Operation"
   ]
  },
  {
   "cell_type": "code",
   "execution_count": 510,
   "id": "aba0d6a7",
   "metadata": {},
   "outputs": [],
   "source": [
    "x = torch.rand(3, 5)"
   ]
  },
  {
   "cell_type": "code",
   "execution_count": 511,
   "id": "ca08c9d5",
   "metadata": {},
   "outputs": [
    {
     "data": {
      "text/plain": [
       "tensor([[0.1320, 0.2058, 0.3805, 0.8441, 0.0337],\n",
       "        [0.5479, 0.2155, 0.4261, 0.0498, 0.3540],\n",
       "        [0.9712, 0.9268, 0.6314, 0.0895, 0.4565]])"
      ]
     },
     "execution_count": 511,
     "metadata": {},
     "output_type": "execute_result"
    }
   ],
   "source": [
    "x"
   ]
  },
  {
   "cell_type": "code",
   "execution_count": 512,
   "id": "d05b0bd5",
   "metadata": {},
   "outputs": [
    {
     "data": {
      "text/plain": [
       "tensor([0.1320, 0.5479, 0.9712])"
      ]
     },
     "execution_count": 512,
     "metadata": {},
     "output_type": "execute_result"
    }
   ],
   "source": [
    "x[:, 0] # first column of all rows"
   ]
  },
  {
   "cell_type": "code",
   "execution_count": 513,
   "id": "b7efbde9",
   "metadata": {},
   "outputs": [
    {
     "data": {
      "text/plain": [
       "tensor([0.5479, 0.2155, 0.4261, 0.0498, 0.3540])"
      ]
     },
     "execution_count": 513,
     "metadata": {},
     "output_type": "execute_result"
    }
   ],
   "source": [
    "x[1, :] # second row of all columns"
   ]
  },
  {
   "cell_type": "code",
   "execution_count": 514,
   "id": "60b0b2b6",
   "metadata": {},
   "outputs": [
    {
     "data": {
      "text/plain": [
       "tensor([0.0337, 0.3540, 0.4565])"
      ]
     },
     "execution_count": 514,
     "metadata": {},
     "output_type": "execute_result"
    }
   ],
   "source": [
    "# x[:, -1] # last column of all rows\n",
    "x[..., -1] # last column of all rows"
   ]
  },
  {
   "cell_type": "code",
   "execution_count": 515,
   "id": "10031109",
   "metadata": {},
   "outputs": [
    {
     "name": "stdout",
     "output_type": "stream",
     "text": [
      "tensor([[0.1320, 0.0000, 0.3805, 0.8441, 0.0337],\n",
      "        [0.5479, 0.0000, 0.4261, 0.0498, 0.3540],\n",
      "        [0.9712, 0.0000, 0.6314, 0.0895, 0.4565]])\n"
     ]
    }
   ],
   "source": [
    "x[:,1] = 0\n",
    "print(x)"
   ]
  },
  {
   "cell_type": "markdown",
   "id": "e6b8f7f6",
   "metadata": {},
   "source": [
    "Each of these operations can be run on the CPU and Accelerator such as CUDA, MPS, MTIA, or XPU.\n",
    "\n",
    "By default, tensors are created on the CPU $\\to$ explicitly move tensors to the accelerator using `.to` method (after checking for accelerator availability). \n",
    "\n",
    "Copying large tensors across devices can be expensive in terms of time and memory!"
   ]
  },
  {
   "cell_type": "code",
   "execution_count": 516,
   "id": "636c8e6e",
   "metadata": {},
   "outputs": [
    {
     "data": {
      "text/plain": [
       "True"
      ]
     },
     "execution_count": 516,
     "metadata": {},
     "output_type": "execute_result"
    }
   ],
   "source": [
    "torch.accelerator.is_available()"
   ]
  },
  {
   "cell_type": "code",
   "execution_count": 517,
   "id": "57d763ba",
   "metadata": {},
   "outputs": [],
   "source": [
    "# move our tensor to the current accelerator if available\n",
    "if torch.accelerator.is_available():\n",
    "    tensor = tensor.to(torch.accelerator.current_accelerator())"
   ]
  },
  {
   "cell_type": "markdown",
   "id": "e2630f2d",
   "metadata": {},
   "source": [
    "### Accelerators\n",
    "https://docs.pytorch.org/docs/stable/torch.html#accelerators"
   ]
  },
  {
   "cell_type": "markdown",
   "id": "002d9d70",
   "metadata": {},
   "source": [
    "### Joining Tensors"
   ]
  },
  {
   "cell_type": "code",
   "execution_count": 518,
   "id": "46d65381",
   "metadata": {},
   "outputs": [
    {
     "name": "stdout",
     "output_type": "stream",
     "text": [
      "tensor([[1, 2, 3, 1, 2, 3, 1, 2, 3],\n",
      "        [4, 5, 6, 4, 5, 6, 4, 5, 6]])\n"
     ]
    }
   ],
   "source": [
    "tensor = torch.tensor([[1, 2, 3], [4, 5, 6]])\n",
    "\n",
    "t1 = torch.cat([tensor, tensor, tensor], dim=1)\n",
    "print(t1)"
   ]
  },
  {
   "cell_type": "markdown",
   "id": "7f407a1c",
   "metadata": {},
   "source": [
    "#### Single-element tensors \n",
    "\n",
    "one-element tensor, for example by aggregating all values of a tensor into one value $\\to$ can convert it to a Python numerical value using `item()`"
   ]
  },
  {
   "cell_type": "code",
   "execution_count": 519,
   "id": "42e2ef39",
   "metadata": {},
   "outputs": [
    {
     "name": "stdout",
     "output_type": "stream",
     "text": [
      "21 <class 'int'>\n"
     ]
    }
   ],
   "source": [
    "agg = tensor.sum()\n",
    "agg_item = agg.item()\n",
    "print(agg_item, type(agg_item))"
   ]
  },
  {
   "cell_type": "markdown",
   "id": "0b610934",
   "metadata": {},
   "source": [
    "# Autograd\n",
    "Built-in engine that supports automatic computation of gradient for any computational graph"
   ]
  },
  {
   "cell_type": "code",
   "execution_count": 520,
   "id": "20ef5ae3",
   "metadata": {},
   "outputs": [
    {
     "data": {
      "text/plain": [
       "tensor([ 0.5694, -0.7457,  1.6023], requires_grad=True)"
      ]
     },
     "execution_count": 520,
     "metadata": {},
     "output_type": "execute_result"
    }
   ],
   "source": [
    "x = torch.randn(3, requires_grad=True)\n",
    "x"
   ]
  },
  {
   "cell_type": "code",
   "execution_count": 521,
   "id": "88d3aa4d",
   "metadata": {},
   "outputs": [
    {
     "data": {
      "text/plain": [
       "tensor([2.5694, 1.2543, 3.6023], grad_fn=<AddBackward0>)"
      ]
     },
     "execution_count": 521,
     "metadata": {},
     "output_type": "execute_result"
    }
   ],
   "source": [
    "y = x + 2\n",
    "y"
   ]
  },
  {
   "cell_type": "code",
   "execution_count": 522,
   "id": "91d2e210",
   "metadata": {},
   "outputs": [
    {
     "data": {
      "text/plain": [
       "tensor([13.2035,  3.1463, 25.9532], grad_fn=<MulBackward0>)"
      ]
     },
     "execution_count": 522,
     "metadata": {},
     "output_type": "execute_result"
    }
   ],
   "source": [
    "z = y * y * 2\n",
    "z"
   ]
  },
  {
   "cell_type": "code",
   "execution_count": 523,
   "id": "6d167a47",
   "metadata": {},
   "outputs": [
    {
     "data": {
      "text/plain": [
       "tensor(14.1010, grad_fn=<MeanBackward0>)"
      ]
     },
     "execution_count": 523,
     "metadata": {},
     "output_type": "execute_result"
    }
   ],
   "source": [
    "z = z.mean()\n",
    "z"
   ]
  },
  {
   "cell_type": "code",
   "execution_count": 524,
   "id": "c2bace02",
   "metadata": {},
   "outputs": [
    {
     "data": {
      "text/plain": [
       "tensor([3.4259, 1.6723, 4.8031])"
      ]
     },
     "execution_count": 524,
     "metadata": {},
     "output_type": "execute_result"
    }
   ],
   "source": [
    "z.backward() # dz/dx\n",
    "x.grad"
   ]
  }
 ],
 "metadata": {
  "kernelspec": {
   "display_name": "pml-demos",
   "language": "python",
   "name": "python3"
  },
  "language_info": {
   "codemirror_mode": {
    "name": "ipython",
    "version": 3
   },
   "file_extension": ".py",
   "mimetype": "text/x-python",
   "name": "python",
   "nbconvert_exporter": "python",
   "pygments_lexer": "ipython3",
   "version": "3.12.11"
  }
 },
 "nbformat": 4,
 "nbformat_minor": 5
}
