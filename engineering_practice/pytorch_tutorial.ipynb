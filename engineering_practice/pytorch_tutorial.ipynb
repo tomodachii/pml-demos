{
 "cells": [
  {
   "cell_type": "code",
   "execution_count": 92,
   "id": "45fe2449",
   "metadata": {},
   "outputs": [],
   "source": [
    "import torch"
   ]
  },
  {
   "cell_type": "code",
   "execution_count": 93,
   "id": "6ab3a941",
   "metadata": {},
   "outputs": [
    {
     "data": {
      "text/plain": [
       "True"
      ]
     },
     "execution_count": 93,
     "metadata": {},
     "output_type": "execute_result"
    }
   ],
   "source": [
    "torch.cuda.is_available()"
   ]
  },
  {
   "cell_type": "code",
   "execution_count": 94,
   "id": "cbb702fd",
   "metadata": {},
   "outputs": [
    {
     "data": {
      "text/plain": [
       "1"
      ]
     },
     "execution_count": 94,
     "metadata": {},
     "output_type": "execute_result"
    }
   ],
   "source": [
    "torch.cuda.device_count()"
   ]
  },
  {
   "cell_type": "code",
   "execution_count": 95,
   "id": "3f00d521",
   "metadata": {},
   "outputs": [
    {
     "data": {
      "text/plain": [
       "0"
      ]
     },
     "execution_count": 95,
     "metadata": {},
     "output_type": "execute_result"
    }
   ],
   "source": [
    "torch.cuda.current_device()"
   ]
  },
  {
   "cell_type": "code",
   "execution_count": 96,
   "id": "d4c8f9f1",
   "metadata": {},
   "outputs": [
    {
     "data": {
      "text/plain": [
       "<torch.cuda.device at 0x75600463e900>"
      ]
     },
     "execution_count": 96,
     "metadata": {},
     "output_type": "execute_result"
    }
   ],
   "source": [
    "torch.cuda.device(0)"
   ]
  },
  {
   "cell_type": "code",
   "execution_count": 97,
   "id": "642d6626",
   "metadata": {},
   "outputs": [
    {
     "data": {
      "text/plain": [
       "'NVIDIA GeForce RTX 4060 Ti'"
      ]
     },
     "execution_count": 97,
     "metadata": {},
     "output_type": "execute_result"
    }
   ],
   "source": [
    "torch.cuda.get_device_name(0)"
   ]
  },
  {
   "cell_type": "markdown",
   "id": "a858a738",
   "metadata": {},
   "source": [
    "# Tensor\n",
    "\n",
    "### Create a Tensor"
   ]
  },
  {
   "cell_type": "code",
   "execution_count": 98,
   "id": "c3e14a81",
   "metadata": {},
   "outputs": [
    {
     "data": {
      "text/plain": [
       "torch.int32"
      ]
     },
     "execution_count": 98,
     "metadata": {},
     "output_type": "execute_result"
    }
   ],
   "source": [
    "# create an empty tensor of size d\n",
    "d = 3\n",
    "x = torch.empty(d, dtype=torch.int)\n",
    "\n",
    "x.dtype"
   ]
  },
  {
   "cell_type": "code",
   "execution_count": 99,
   "id": "0dc0d3fd",
   "metadata": {},
   "outputs": [
    {
     "data": {
      "text/plain": [
       "tensor([[4.5051e+30, 1.8469e+25],\n",
       "        [1.7343e+02, 7.2143e+22],\n",
       "        [2.9799e+12, 8.7524e-04]])"
      ]
     },
     "execution_count": 99,
     "metadata": {},
     "output_type": "execute_result"
    }
   ],
   "source": [
    "# m x n matrix\n",
    "m, n = 3, 2\n",
    "x = torch.empty(m, n)\n",
    "\n",
    "x"
   ]
  },
  {
   "cell_type": "code",
   "execution_count": 100,
   "id": "393630c1",
   "metadata": {},
   "outputs": [
    {
     "data": {
      "text/plain": [
       "tensor([[[2.2529e-22, 0.0000e+00, 0.0000e+00, 0.0000e+00, 0.0000e+00],\n",
       "         [0.0000e+00, 0.0000e+00, 0.0000e+00, 2.2498e-22, 0.0000e+00],\n",
       "         [0.0000e+00, 0.0000e+00, 0.0000e+00, 0.0000e+00, 2.2499e-22],\n",
       "         [0.0000e+00, 0.0000e+00, 0.0000e+00, 0.0000e+00, 0.0000e+00]],\n",
       "\n",
       "        [[2.2499e-22, 0.0000e+00, 0.0000e+00, 0.0000e+00, 2.2498e-22],\n",
       "         [0.0000e+00, 2.2498e-22, 0.0000e+00, 0.0000e+00, 0.0000e+00],\n",
       "         [2.2498e-22, 0.0000e+00, 2.2498e-22, 0.0000e+00, 0.0000e+00],\n",
       "         [0.0000e+00, 2.2499e-22, 0.0000e+00, 1.4013e-45, 0.0000e+00]],\n",
       "\n",
       "        [[2.2499e-22, 0.0000e+00, 2.2503e-22, 0.0000e+00, 1.4013e-45],\n",
       "         [0.0000e+00, 2.2499e-22, 0.0000e+00, 2.2500e-22, 0.0000e+00],\n",
       "         [3.3631e-44, 0.0000e+00, 1.2537e-38, 0.0000e+00, 1.4013e-45],\n",
       "         [0.0000e+00, 1.5891e-42, 0.0000e+00, 2.3822e-44, 1.6816e-44]]])"
      ]
     },
     "execution_count": 100,
     "metadata": {},
     "output_type": "execute_result"
    }
   ],
   "source": [
    "torch.empty(3, 4, 5)"
   ]
  },
  {
   "cell_type": "code",
   "execution_count": 101,
   "id": "ae8301f8",
   "metadata": {},
   "outputs": [
    {
     "data": {
      "text/plain": [
       "tensor([[0.6872, 0.6869],\n",
       "        [0.0337, 0.8107]])"
      ]
     },
     "execution_count": 101,
     "metadata": {},
     "output_type": "execute_result"
    }
   ],
   "source": [
    "# tensor of random values\n",
    "torch.rand(2, 2)"
   ]
  },
  {
   "cell_type": "code",
   "execution_count": 102,
   "id": "80eac15a",
   "metadata": {},
   "outputs": [
    {
     "data": {
      "text/plain": [
       "tensor([[0., 0., 0.],\n",
       "        [0., 0., 0.],\n",
       "        [0., 0., 0.]])"
      ]
     },
     "execution_count": 102,
     "metadata": {},
     "output_type": "execute_result"
    }
   ],
   "source": [
    "# np flavour\n",
    "torch.zeros(3, 3)"
   ]
  },
  {
   "cell_type": "code",
   "execution_count": 103,
   "id": "5b382d4c",
   "metadata": {},
   "outputs": [
    {
     "data": {
      "text/plain": [
       "tensor([2.4000, 9.9000])"
      ]
     },
     "execution_count": 103,
     "metadata": {},
     "output_type": "execute_result"
    }
   ],
   "source": [
    "x = torch.tensor([2.4, 9.9])\n",
    "\n",
    "x"
   ]
  },
  {
   "cell_type": "markdown",
   "id": "61fd7c6d",
   "metadata": {},
   "source": [
    "### Basic Operations"
   ]
  },
  {
   "cell_type": "code",
   "execution_count": 104,
   "id": "555af555",
   "metadata": {},
   "outputs": [],
   "source": [
    "x, y = torch.rand(2, 2), torch.rand(2, 2)"
   ]
  },
  {
   "cell_type": "code",
   "execution_count": 105,
   "id": "802406d4",
   "metadata": {},
   "outputs": [
    {
     "data": {
      "text/plain": [
       "tensor([[0.7092, 0.2782],\n",
       "        [0.9995, 0.1809]])"
      ]
     },
     "execution_count": 105,
     "metadata": {},
     "output_type": "execute_result"
    }
   ],
   "source": [
    "x"
   ]
  },
  {
   "cell_type": "code",
   "execution_count": 106,
   "id": "f90d4e22",
   "metadata": {},
   "outputs": [
    {
     "data": {
      "text/plain": [
       "tensor([[0.8509, 0.7073],\n",
       "        [0.1222, 0.9117]])"
      ]
     },
     "execution_count": 106,
     "metadata": {},
     "output_type": "execute_result"
    }
   ],
   "source": [
    "y"
   ]
  },
  {
   "cell_type": "markdown",
   "id": "1b6b58e6",
   "metadata": {},
   "source": [
    "#### Addition"
   ]
  },
  {
   "cell_type": "code",
   "execution_count": null,
   "id": "d951a834",
   "metadata": {},
   "outputs": [
    {
     "data": {
      "text/plain": [
       "tensor([[1.5601, 0.9855],\n",
       "        [1.1217, 1.0926]])"
      ]
     },
     "execution_count": 107,
     "metadata": {},
     "output_type": "execute_result"
    }
   ],
   "source": [
    "x + y"
   ]
  },
  {
   "cell_type": "code",
   "execution_count": null,
   "id": "e23a4447",
   "metadata": {},
   "outputs": [
    {
     "data": {
      "text/plain": [
       "tensor([[1.5601, 0.9855],\n",
       "        [1.1217, 1.0926]])"
      ]
     },
     "execution_count": 108,
     "metadata": {},
     "output_type": "execute_result"
    }
   ],
   "source": [
    "torch.add(x, y)"
   ]
  },
  {
   "cell_type": "markdown",
   "id": "7141b29e",
   "metadata": {},
   "source": [
    "Every function with underscore \"_\" will do an in-place operation"
   ]
  },
  {
   "cell_type": "code",
   "execution_count": null,
   "id": "e126b72e",
   "metadata": {},
   "outputs": [
    {
     "data": {
      "text/plain": [
       "tensor([[1.5601, 0.9855],\n",
       "        [1.1217, 1.0926]])"
      ]
     },
     "execution_count": 109,
     "metadata": {},
     "output_type": "execute_result"
    }
   ],
   "source": [
    "# this will modify y, add all elements of x to y\n",
    "y.add_(x)\n",
    "\n",
    "y"
   ]
  }
 ],
 "metadata": {
  "kernelspec": {
   "display_name": "pml-demos",
   "language": "python",
   "name": "python3"
  },
  "language_info": {
   "codemirror_mode": {
    "name": "ipython",
    "version": 3
   },
   "file_extension": ".py",
   "mimetype": "text/x-python",
   "name": "python",
   "nbconvert_exporter": "python",
   "pygments_lexer": "ipython3",
   "version": "3.12.11"
  }
 },
 "nbformat": 4,
 "nbformat_minor": 5
}
